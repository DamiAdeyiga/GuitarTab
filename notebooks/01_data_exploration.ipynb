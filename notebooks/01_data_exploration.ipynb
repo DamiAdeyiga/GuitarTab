{
  "nbformat": 4,
  "nbformat_minor": 0,
  "metadata": {
    "colab": {
      "provenance": []
    },
    "kernelspec": {
      "name": "python3",
      "display_name": "Python 3"
    },
    "language_info": {
      "name": "python"
    }
  },
  "cells": [
    {
      "cell_type": "markdown",
      "source": [
        "# Data Exploration for GuitarTab Project\n",
        "\n",
        "This notebook explores the Guitar Chords V2 and GuitarSet datasets to understand their structure, distribution, and characteristics.\n",
        "\n",
        "## Table of Contents\n",
        "1. [Import Libraries](#Import-Libraries)\n",
        "2. [Define Paths and Parameters](#Define-Paths-and-Parameters)\n",
        "3. [Load Sample Audio Files](#Load-Sample-Audio-Files)\n",
        "4. [Visualize Waveforms](#Visualize-Waveforms)\n",
        "5. [Compute and Visualize Spectrograms](#Compute-and-Visualize-Spectrograms)\n",
        "6. [Class Distribution](#Class-Distribution)\n",
        "7. [Conclusion](#Conclusion)"
      ],
      "metadata": {
        "id": "To9K1GNWrb9x"
      }
    },
    {
      "cell_type": "code",
      "execution_count": null,
      "metadata": {
        "id": "d7Qqjkw4rS6y"
      },
      "outputs": [],
      "source": [
        "# 1. Import Libraries\n",
        "import os\n",
        "import numpy as np\n",
        "import matplotlib.pyplot as plt\n",
        "import librosa\n",
        "from src.data_preprocessing import load_wav_16k_mono, preprocess_audio, compute_spectrogram, plot_waveform, plot_spectrogram\n",
        "import seaborn as sns\n",
        "import pandas as pd"
      ]
    },
    {
      "cell_type": "markdown",
      "source": [
        "## 2. Define Paths and Parameters\n",
        "\n",
        "Setting the paths to the datasets and defining any necessary parameters."
      ],
      "metadata": {
        "id": "o8SxI2ECrpGX"
      }
    },
    {
      "cell_type": "code",
      "source": [
        "# 2. Define Paths and Parameters\n",
        "GUITARCHORDS_PATH = '/content/drive/MyDrive/GuitarTab/data/raw/GuitarChordsV2/'\n",
        "GUITARSET_PATH = '/content/drive/MyDrive/GuitarTab/data/raw/GuitarSet/'\n",
        "\n",
        "chords = ['Am', 'Bb', 'Bdim', 'C', 'Dm', 'Em', 'F', 'G']"
      ],
      "metadata": {
        "id": "ixhZ3lMTrjR6"
      },
      "execution_count": null,
      "outputs": []
    },
    {
      "cell_type": "markdown",
      "source": [
        "## 3. Load Sample Audio Files\n",
        "\n",
        "Load a few sample audio files from each dataset to inspect their content."
      ],
      "metadata": {
        "id": "alt86H5Rr9XF"
      }
    },
    {
      "cell_type": "code",
      "source": [
        "# 3. Load Sample Audio Files\n",
        "sample_chord = 'Am'\n",
        "sample_file = os.path.join(GUITARCHORDS_PATH, sample_chord, 'Am_AcousticPlug26_1.wav')  # need to double check again\n",
        "\n",
        "wav = load_wav_16k_mono(sample_file)\n",
        "print(f\"Audio Loaded: {sample_file}, Duration: {len(wav)/16000:.2f} seconds\")"
      ],
      "metadata": {
        "id": "kzpEgFRerjcK"
      },
      "execution_count": null,
      "outputs": []
    },
    {
      "cell_type": "markdown",
      "source": [
        "## 4. Visualize Waveforms\n",
        "\n",
        "Plot the waveform of the sample audio to understand its amplitude variations over time."
      ],
      "metadata": {
        "id": "YuwHPWCEsJis"
      }
    },
    {
      "cell_type": "code",
      "source": [
        "# 4. Visualize Waveforms\n",
        "plot_waveform(wav, title=f\"Waveform of {sample_chord} Chord\")"
      ],
      "metadata": {
        "id": "WhLl1nTXrjd8"
      },
      "execution_count": null,
      "outputs": []
    },
    {
      "cell_type": "markdown",
      "source": [
        "## 5. Compute and Visualize Spectrograms\n",
        "\n",
        "Convert the audio waveform into a spectrogram and visualize it."
      ],
      "metadata": {
        "id": "6SXWNRoasR9c"
      }
    },
    {
      "cell_type": "code",
      "source": [
        "# 5. Compute and Visualize Spectrograms\n",
        "spectrogram = compute_spectrogram(wav)\n",
        "plot_spectrogram(spectrogram, title=f\"Spectrogram of {sample_chord} Chord\")"
      ],
      "metadata": {
        "id": "T6R0CPwqrjgr"
      },
      "execution_count": null,
      "outputs": []
    },
    {
      "cell_type": "markdown",
      "source": [
        "## 6. Class Distribution\n",
        "\n",
        "Analyze the distribution of chords in the Guitar Chords V2 dataset."
      ],
      "metadata": {
        "id": "pl8HgX3XsZ-p"
      }
    },
    {
      "cell_type": "code",
      "source": [
        "# 6. Class Distribution\n",
        "import glob\n",
        "\n",
        "def get_all_files(dataset_path, chords):\n",
        "    files = []\n",
        "    labels = []\n",
        "    for chord in chords:\n",
        "        chord_path = os.path.join(dataset_path, chord, '*.wav')\n",
        "        chord_files = glob.glob(chord_path)\n",
        "        files += chord_files\n",
        "        labels += [chord] * len(chord_files)\n",
        "    return files, labels\n",
        "\n",
        "# Get train and test files\n",
        "train_files, train_labels = get_all_files(os.path.join(GUITARCHORDS_PATH, 'Training'), chords)\n",
        "test_files, test_labels = get_all_files(os.path.join(GUITARCHORDS_PATH, 'Test'), chords)\n",
        "\n",
        "# Combine and create a DataFrame\n",
        "all_labels = train_labels + test_labels\n",
        "df = pd.DataFrame({'Chord': all_labels})\n",
        "\n",
        "# Plot\n",
        "plt.figure(figsize=(10,6))\n",
        "sns.countplot(data=df, x='Chord', order=chords)\n",
        "plt.title('Chord Distribution in Guitar Chords V2 Dataset')\n",
        "plt.xlabel('Chord')\n",
        "plt.ylabel('Count')\n",
        "plt.show()"
      ],
      "metadata": {
        "id": "uFhFu-_yrji-"
      },
      "execution_count": null,
      "outputs": []
    },
    {
      "cell_type": "code",
      "source": [],
      "metadata": {
        "id": "_6ZWvuD7rjlR"
      },
      "execution_count": null,
      "outputs": []
    },
    {
      "cell_type": "code",
      "source": [],
      "metadata": {
        "id": "IQlzTSzlrjoI"
      },
      "execution_count": null,
      "outputs": []
    },
    {
      "cell_type": "code",
      "source": [],
      "metadata": {
        "id": "xCfNVPOfrjrv"
      },
      "execution_count": null,
      "outputs": []
    }
  ]
}