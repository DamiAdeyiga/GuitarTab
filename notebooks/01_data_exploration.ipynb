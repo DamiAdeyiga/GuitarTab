{
 "cells": [
  {
   "cell_type": "markdown",
   "metadata": {
    "id": "To9K1GNWrb9x"
   },
   "source": [
    "# Data Exploration for GuitarTab Project\n",
    "\n",
    "This notebook explores the Guitar Chords V2 and GuitarSet datasets to understand their structure, distribution, and characteristics.\n",
    "\n",
    "## Table of Contents\n",
    "1. [Import Libraries](#Import-Libraries)\n",
    "2. [Define Paths and Parameters](#Define-Paths-and-Parameters)\n",
    "3. [Load Sample Audio Files](#Load-Sample-Audio-Files)\n",
    "4. [Visualize Waveforms](#Visualize-Waveforms)\n",
    "5. [Compute and Visualize Spectrograms](#Compute-and-Visualize-Spectrograms)\n",
    "6. [Class Distribution](#Class-Distribution)\n",
    "7. [Conclusion](#Conclusion)"
   ]
  },
  {
   "cell_type": "code",
   "execution_count": null,
   "metadata": {
    "id": "d7Qqjkw4rS6y"
   },
   "outputs": [],
   "source": [
    "# 1. Import Libraries\n",
    "import os\n",
    "import numpy as np\n",
    "import matplotlib.pyplot as plt\n",
    "import librosa\n",
    "from src.data_preprocessing import load_wav_16k_mono, preprocess_audio, compute_spectrogram, plot_waveform, plot_spectrogram\n",
    "import seaborn as sns\n",
    "import pandas as pd"
   ]
  },
  {
   "cell_type": "markdown",
   "metadata": {
    "id": "o8SxI2ECrpGX"
   },
   "source": [
    "## 2. Define Paths and Parameters\n",
    "\n",
    "Setting the paths to the datasets and defining any necessary parameters."
   ]
  },
  {
   "cell_type": "code",
   "execution_count": null,
   "metadata": {
    "id": "ixhZ3lMTrjR6"
   },
   "outputs": [],
   "source": [
    "# 2. Define Paths and Parameters\n",
    "GUITARCHORDS_PATH = '/content/drive/MyDrive/GuitarTab/data/raw/GuitarChordsV2/'\n",
    "GUITARSET_PATH = '/content/drive/MyDrive/GuitarTab/data/raw/GuitarSet/'\n",
    "\n",
    "chords = ['Am', 'Bb', 'Bdim', 'C', 'Dm', 'Em', 'F', 'G']"
   ]
  },
  {
   "cell_type": "markdown",
   "metadata": {
    "id": "alt86H5Rr9XF"
   },
   "source": [
    "## 3. Load Sample Audio Files\n",
    "\n",
    "Load a few sample audio files from each dataset to inspect their content."
   ]
  },
  {
   "cell_type": "code",
   "execution_count": null,
   "metadata": {
    "id": "kzpEgFRerjcK"
   },
   "outputs": [],
   "source": [
    "# 3. Load Sample Audio Files\n",
    "sample_chord = 'Am'\n",
    "sample_file = os.path.join(GUITARCHORDS_PATH, sample_chord, 'Am_AcousticPlug26_1.wav')  # need to double check again\n",
    "\n",
    "wav = load_wav_16k_mono(sample_file)\n",
    "print(f\"Audio Loaded: {sample_file}, Duration: {len(wav)/16000:.2f} seconds\")"
   ]
  },
  {
   "cell_type": "code",
   "execution_count": null,
   "metadata": {},
   "outputs": [],
   "source": [
    "def standardize_audio_length(wav, sr=16000, duration=3.0):\n",
    "    \"\"\"\n",
    "    Standardize audio to a fixed length (3 seconds by default)\n",
    "    \"\"\"\n",
    "    target_length = int(duration * sr)\n",
    "    if len(wav) > target_length:\n",
    "        wav = wav[:target_length]\n",
    "    else:\n",
    "        # Pad with zeros if too short\n",
    "        wav = np.pad(wav, (0, max(0, target_length - len(wav))))\n",
    "    return wav"
   ]
  },
  {
   "cell_type": "markdown",
   "metadata": {
    "id": "YuwHPWCEsJis"
   },
   "source": [
    "## 4. Visualize Waveforms\n",
    "\n",
    "Plot the waveform of the sample audio to understand its amplitude variations over time."
   ]
  },
  {
   "cell_type": "code",
   "execution_count": null,
   "metadata": {
    "id": "WhLl1nTXrjd8"
   },
   "outputs": [],
   "source": [
    "# 4. Visualize Waveforms\n",
    "plot_waveform(wav, title=f\"Waveform of {sample_chord} Chord\")"
   ]
  },
  {
   "cell_type": "markdown",
   "metadata": {
    "id": "6SXWNRoasR9c"
   },
   "source": [
    "## 5. Compute and Visualize Spectrograms\n",
    "\n",
    "Convert the audio waveform into a spectrogram and visualize it."
   ]
  },
  {
   "cell_type": "code",
   "execution_count": null,
   "metadata": {
    "id": "T6R0CPwqrjgr"
   },
   "outputs": [],
   "source": [
    "def compute_mel_spectrogram(wav, sr=16000, n_mels=128, fixed_shape=(128, 128)):\n",
    "    \"\"\"\n",
    "    Compute mel spectrogram with fixed dimensions\n",
    "    \"\"\"\n",
    "    # Standardize length\n",
    "    wav = standardize_audio_length(wav, sr=sr)\n",
    "    \n",
    "    # Compute mel spectrogram\n",
    "    mel_spec = librosa.feature.melspectrogram(\n",
    "        y=wav, sr=sr, n_fft=2048, hop_length=512, n_mels=n_mels)\n",
    "    \n",
    "    # Convert to decibels\n",
    "    mel_spec = librosa.power_to_db(mel_spec, ref=np.max)\n",
    "    \n",
    "    # Resize to fixed dimensions if needed\n",
    "    if fixed_shape:\n",
    "        mel_spec = librosa.util.fix_length(mel_spec, size=fixed_shape[1], axis=1)\n",
    "        \n",
    "    return mel_spec"
   ]
  },
  {
   "cell_type": "code",
   "execution_count": null,
   "metadata": {},
   "outputs": [],
   "source": [
    "def augment_audio(wav, sr=16000, apply_prob=0.5):\n",
    "    \"\"\"\n",
    "    Apply random augmentations to audio data\n",
    "    \"\"\"\n",
    "    # Random pitch shift between -2 and 2 semitones\n",
    "    if np.random.random() < apply_prob:\n",
    "        n_steps = np.random.uniform(-2, 2)\n",
    "        wav = librosa.effects.pitch_shift(wav, sr=sr, n_steps=n_steps)\n",
    "    \n",
    "    # Random time stretching between 0.8x and 1.2x\n",
    "    if np.random.random() < apply_prob:\n",
    "        rate = np.random.uniform(0.8, 1.2)\n",
    "        wav = librosa.effects.time_stretch(wav, rate=rate)\n",
    "    \n",
    "    # Add random noise\n",
    "    if np.random.random() < apply_prob/2:  # Lower probability for noise\n",
    "        noise_level = np.random.uniform(0, 0.005)\n",
    "        noise = np.random.normal(0, noise_level, len(wav))\n",
    "        wav = wav + noise\n",
    "        \n",
    "    # Ensure the amplitude is within [-1, 1]\n",
    "    wav = np.clip(wav, -1, 1)\n",
    "    \n",
    "    return wav"
   ]
  },
  {
   "cell_type": "markdown",
   "metadata": {
    "id": "pl8HgX3XsZ-p"
   },
   "source": [
    "## 6. Class Distribution\n",
    "\n",
    "Analyze the distribution of chords in the Guitar Chords V2 dataset."
   ]
  },
  {
   "cell_type": "code",
   "execution_count": null,
   "metadata": {
    "id": "uFhFu-_yrji-"
   },
   "outputs": [],
   "source": [
    "# 6. Class Distribution\n",
    "import glob\n",
    "\n",
    "def get_all_files(dataset_path, chords):\n",
    "    files = []\n",
    "    labels = []\n",
    "    for chord in chords:\n",
    "        chord_path = os.path.join(dataset_path, chord, '*.wav')\n",
    "        chord_files = glob.glob(chord_path)\n",
    "        files += chord_files\n",
    "        labels += [chord] * len(chord_files)\n",
    "    return files, labels\n",
    "\n",
    "# Get train and test files\n",
    "train_files, train_labels = get_all_files(os.path.join(GUITARCHORDS_PATH, 'Training'), chords)\n",
    "test_files, test_labels = get_all_files(os.path.join(GUITARCHORDS_PATH, 'Test'), chords)\n",
    "\n",
    "# Combine and create a DataFrame\n",
    "all_labels = train_labels + test_labels\n",
    "df = pd.DataFrame({'Chord': all_labels})\n",
    "\n",
    "# Plot\n",
    "plt.figure(figsize=(10,6))\n",
    "sns.countplot(data=df, x='Chord', order=chords)\n",
    "plt.title('Chord Distribution in Guitar Chords V2 Dataset')\n",
    "plt.xlabel('Chord')\n",
    "plt.ylabel('Count')\n",
    "plt.show()"
   ]
  },
  {
   "cell_type": "code",
   "execution_count": null,
   "metadata": {
    "id": "_6ZWvuD7rjlR"
   },
   "outputs": [],
   "source": []
  },
  {
   "cell_type": "code",
   "execution_count": null,
   "metadata": {
    "id": "IQlzTSzlrjoI"
   },
   "outputs": [],
   "source": []
  },
  {
   "cell_type": "code",
   "execution_count": null,
   "metadata": {
    "id": "xCfNVPOfrjrv"
   },
   "outputs": [],
   "source": []
  }
 ],
 "metadata": {
  "colab": {
   "provenance": []
  },
  "kernelspec": {
   "display_name": "Python 3 (ipykernel)",
   "language": "python",
   "name": "python3"
  },
  "language_info": {
   "codemirror_mode": {
    "name": "ipython",
    "version": 3
   },
   "file_extension": ".py",
   "mimetype": "text/x-python",
   "name": "python",
   "nbconvert_exporter": "python",
   "pygments_lexer": "ipython3",
   "version": "3.12.3"
  }
 },
 "nbformat": 4,
 "nbformat_minor": 4
}
